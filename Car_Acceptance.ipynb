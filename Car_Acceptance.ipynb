{
 "cells": [
  {
   "cell_type": "code",
   "execution_count": 3,
   "metadata": {},
   "outputs": [],
   "source": [
    "#Loading Libraries\n",
    "\n",
    "import pandas as pd\n",
    "from sklearn.model_selection import train_test_split\n",
    "from sklearn.linear_model import LogisticRegression\n",
    "from sklearn.metrics import confusion_matrix, classification_report\n",
    "from sklearn.neighbors import KNeighborsClassifier\n"
   ]
  },
  {
   "cell_type": "code",
   "execution_count": 4,
   "metadata": {},
   "outputs": [],
   "source": [
    "# Reading the data\n",
    "data = pd.read_csv('car.data')"
   ]
  },
  {
   "cell_type": "code",
   "execution_count": 5,
   "metadata": {},
   "outputs": [],
   "source": [
    "# DATA CLeaning \n",
    "buying_dummies = pd.get_dummies(data['buying'], prefix='Buying')\n",
    "data = pd.concat([data, buying_dummies], axis = 1)\n",
    "data = data.drop(columns='buying')\n",
    "\n",
    "buying_dummies = pd.get_dummies(data['maint'], prefix='maint')\n",
    "data = pd.concat([data, buying_dummies], axis = 1)\n",
    "data = data.drop(columns='maint')\n",
    "\n",
    "buying_dummies = pd.get_dummies(data['doors'], prefix='doors')\n",
    "data = pd.concat([data, buying_dummies], axis = 1)\n",
    "data = data.drop(columns='doors')\n",
    "\n",
    "buying_dummies = pd.get_dummies(data['persons'], prefix='persons')\n",
    "data = pd.concat([data, buying_dummies], axis = 1)\n",
    "data = data.drop(columns='persons')\n",
    "\n",
    "buying_dummies = pd.get_dummies(data['lug_boot'], prefix='lug_boot')\n",
    "data = pd.concat([data, buying_dummies], axis = 1)\n",
    "data = data.drop(columns='lug_boot')\n",
    "\n",
    "buying_dummies = pd.get_dummies(data['safety'], prefix='safety')\n",
    "data = pd.concat([data, buying_dummies], axis = 1)\n",
    "data = data.drop(columns='safety')\n",
    "\n",
    "buying_dummies = pd.get_dummies(data['acceptability'], prefix='acceptability')\n",
    "data = pd.concat([data, buying_dummies], axis = 1)\n",
    "data = data.drop(columns='acceptability')\n",
    "\n",
    "data['acceptability_acc'] = data['acceptability_acc'] + data['acceptability_good'] + data['acceptability_vgood']\n",
    "data = data.drop(columns=['acceptability_unacc', 'acceptability_good', 'acceptability_vgood'])\n",
    "X = data.drop(columns='acceptability_acc')\n",
    "Y = data['acceptability_acc']"
   ]
  },
  {
   "cell_type": "code",
   "execution_count": 6,
   "metadata": {},
   "outputs": [
    {
     "name": "stdout",
     "output_type": "stream",
     "text": [
      "              precision    recall  f1-score   support\n",
      "\n",
      "           0       0.97      0.98      0.98       260\n",
      "           1       0.95      0.90      0.92        86\n",
      "\n",
      "    accuracy                           0.96       346\n",
      "   macro avg       0.96      0.94      0.95       346\n",
      "weighted avg       0.96      0.96      0.96       346\n",
      "\n"
     ]
    }
   ],
   "source": [
    "#Creatinig KNN Model\n",
    "X_train, X_test, Y_train, Y_test = train_test_split(X, Y, test_size=0.2, random_state=1)\n",
    "\n",
    "model = KNeighborsClassifier(n_neighbors=10)\n",
    "    \n",
    "model.fit(X_train, Y_train)\n",
    "    \n",
    "Prediction = model.predict(X_test)\n",
    "    \n",
    "print(classification_report(Y_test, Prediction))"
   ]
  }
 ],
 "metadata": {
  "interpreter": {
   "hash": "1d89c5c6a8c9af14f9a87d3d64d49b5b1cf0f27bc8d00053e1d8dbfe1d5bc64d"
  },
  "kernelspec": {
   "display_name": "Python 3.10.2 64-bit ('anishva': venv)",
   "language": "python",
   "name": "python3"
  },
  "language_info": {
   "codemirror_mode": {
    "name": "ipython",
    "version": 3
   },
   "file_extension": ".py",
   "mimetype": "text/x-python",
   "name": "python",
   "nbconvert_exporter": "python",
   "pygments_lexer": "ipython3",
   "version": "3.10.2"
  },
  "orig_nbformat": 4
 },
 "nbformat": 4,
 "nbformat_minor": 2
}
